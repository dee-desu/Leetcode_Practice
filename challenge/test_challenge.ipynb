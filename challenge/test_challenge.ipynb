{
 "cells": [
  {
   "cell_type": "markdown",
   "metadata": {},
   "source": [
    "## Leet code\n",
    "\n",
    "For today you will be solving some selected challenges on leetcode, please create an account if you don't have then\n",
    "Follow the links below:\n",
    "read them carefully and solve them then copy-paste your solution below in Code Block\n"
   ]
  },
  {
   "cell_type": "markdown",
   "metadata": {},
   "source": [
    "### **Question-01**:\n",
    "-----\n"
   ]
  },
  {
   "cell_type": "markdown",
   "metadata": {},
   "source": [
    "##### [Roman-To-Integer](https://leetcode.com/problems/roman-to-integer/)\n",
    "\n",
    "Solution:\n"
   ]
  },
  {
   "cell_type": "code",
   "execution_count": 5,
   "metadata": {},
   "outputs": [],
   "source": [
    "def romanToInt(s):\n",
    "  sum = 0\n",
    "  i=0\n",
    "  while i < (len(s)):\n",
    "    if s[i] == \"M\":\n",
    "      sum += 1000\n",
    "    elif s[i] == \"D\":\n",
    "      sum +=500\n",
    "    elif s[i] == \"V\":\n",
    "      sum += 5  \n",
    "    elif s[i] == 'I':\n",
    "      if i+1 < (len(s)):\n",
    "        if s[i+1] == 'V':\n",
    "          sum += 3\n",
    "          i += 1\n",
    "        elif s[i+1] == 'X':\n",
    "            sum += 8\n",
    "            i += 1\n",
    "      sum += 1\n",
    "    elif s[i] == 'X':\n",
    "      if i+1 < (len(s)):\n",
    "        if s[i+1] == 'L':\n",
    "          sum += 30\n",
    "          i += 1\n",
    "        elif s[i+1] == 'C':\n",
    "            sum  += 80\n",
    "            i += 1\n",
    "      sum += 10\n",
    "    elif s[i] == 'L':\n",
    "      sum +=50\n",
    "    elif s[i] == 'C':\n",
    "      if i+1 < (len(s)):\n",
    "        if s[i+1] == 'D':\n",
    "          sum += 300\n",
    "          i += 1\n",
    "        elif s[i+1] == 'M':\n",
    "          sum += 800\n",
    "          i += 1\n",
    "        sum += 100\n",
    "    i += 1\n",
    "  return sum "
   ]
  },
  {
   "cell_type": "markdown",
   "metadata": {},
   "source": [
    "##### testing:"
   ]
  },
  {
   "cell_type": "code",
   "execution_count": 6,
   "metadata": {},
   "outputs": [],
   "source": [
    "\n",
    "assert  58  ==  romanToInt(\"LVIII\")\n",
    "assert 1994 ==  romanToInt(\"MCMXCIV\")\n",
    "assert 3    ==  romanToInt(\"III\")"
   ]
  },
  {
   "cell_type": "markdown",
   "metadata": {},
   "source": [
    "##### Big(O):"
   ]
  },
  {
   "cell_type": "markdown",
   "metadata": {},
   "source": [
    "- Time complexity: O(n) Here the only thing that changes is the size of the input.\n",
    "- Space complexity: O(n) Here we have two variables."
   ]
  },
  {
   "cell_type": "markdown",
   "metadata": {},
   "source": [
    "### **Question-02**:\n",
    "--------"
   ]
  },
  {
   "cell_type": "markdown",
   "metadata": {},
   "source": [
    "##### [single-number](https://leetcode.com/problems/single-number/)\n",
    "\n",
    "Solution:\n"
   ]
  },
  {
   "cell_type": "code",
   "execution_count": 3,
   "metadata": {},
   "outputs": [],
   "source": [
    "def singleNumber(nums):\n",
    "        n = 0\n",
    "        for x in nums:\n",
    "            n = n^x\n",
    "        return n\n",
    "        #used the xOR operator by converting them to binary to find the single num"
   ]
  },
  {
   "cell_type": "markdown",
   "metadata": {},
   "source": [
    "##### testing:"
   ]
  },
  {
   "cell_type": "code",
   "execution_count": 4,
   "metadata": {},
   "outputs": [],
   "source": [
    "\n",
    "assert 1 ==  singleNumber([2,2,1])\n",
    "assert 4 ==  singleNumber([4,1,2,1,2])\n",
    "assert 1 ==  singleNumber([1])"
   ]
  },
  {
   "cell_type": "markdown",
   "metadata": {},
   "source": [
    "##### Big(O):"
   ]
  },
  {
   "cell_type": "markdown",
   "metadata": {},
   "source": [
    " - Time Complexity :O(n) Here the time complexity is the number of values in the nums array.\n",
    "    \n",
    " -    Space Complexity:O(1) the only thing that is used to return the answer is the n variable."
   ]
  },
  {
   "cell_type": "markdown",
   "metadata": {},
   "source": [
    "### **Question-03**:\n",
    "------"
   ]
  },
  {
   "cell_type": "markdown",
   "metadata": {},
   "source": [
    "##### [Move Zeroes](https://leetcode.com/problems/move-zeroes/)\n",
    "\n",
    "Solution:\n"
   ]
  },
  {
   "cell_type": "code",
   "execution_count": 17,
   "metadata": {},
   "outputs": [],
   "source": [
    "def moveZeroes(nums):\n",
    "    count=nums.count(0)\n",
    "    while count>0:\n",
    "        nums.remove(0)\n",
    "        count -=1\n",
    "        nums.append(0)\n",
    "    return nums"
   ]
  },
  {
   "cell_type": "markdown",
   "metadata": {},
   "source": [
    "##### testing:"
   ]
  },
  {
   "cell_type": "code",
   "execution_count": 18,
   "metadata": {},
   "outputs": [],
   "source": [
    "assert[1,3,12,0,0]==  moveZeroes([0,1,0,3,12])\n",
    "assert [0] ==  moveZeroes([0])\n",
    "assert [3,2,4,0,0,0] ==  moveZeroes([0,3,0,0,2,4])"
   ]
  },
  {
   "cell_type": "markdown",
   "metadata": {},
   "source": [
    "##### Big(O):"
   ]
  },
  {
   "cell_type": "markdown",
   "metadata": {},
   "source": [
    "- time complexity: O(n^2) here the loop depends on count variable that also depends on how many zeros are in the array \n",
    "- space complexity: O(1) the output takes a fixed amount of space no matter what the input is."
   ]
  },
  {
   "cell_type": "markdown",
   "metadata": {},
   "source": [
    "### **Question-04**:\n",
    "------"
   ]
  },
  {
   "cell_type": "markdown",
   "metadata": {},
   "source": [
    "##### [longest-common-prefix](https://leetcode.com/problems/longest-common-prefix/)\n",
    "\n",
    "Solution:\n"
   ]
  },
  {
   "cell_type": "code",
   "execution_count": 29,
   "metadata": {},
   "outputs": [],
   "source": [
    "def longestCommonPrefix(strs):\n",
    "    if len(strs) == 0:\n",
    "        return ''\n",
    "    elif len(strs) == 1:\n",
    "        return strs[0]\n",
    "    x = len(min(strs, key=len))\n",
    "    i = 0\n",
    "    common = strs[0]\n",
    "    while i < x:        \n",
    "        for myStr in strs:\n",
    "            if myStr[i] != common[i]:\n",
    "                return common[:i]\n",
    "        i += 1\n",
    "    return common[:x]"
   ]
  },
  {
   "cell_type": "markdown",
   "metadata": {},
   "source": [
    "##### testing:"
   ]
  },
  {
   "cell_type": "code",
   "execution_count": 30,
   "metadata": {},
   "outputs": [],
   "source": [
    "assert\"fl\"==  longestCommonPrefix([\"flower\",\"flow\",\"flight\"])\n",
    "assert  \"\" ==  longestCommonPrefix ([\"dog\",\"racecar\",\"car\"])\n",
    "assert \"tra\" ==  longestCommonPrefix([\"transform\",\"transcribe\",\"train\"])"
   ]
  },
  {
   "cell_type": "markdown",
   "metadata": {},
   "source": [
    "##### Big(O):"
   ]
  },
  {
   "cell_type": "markdown",
   "metadata": {},
   "source": [
    "- time complexity: O(m × n) here it depends on on the length of the shortest string(m) and the array length (n)\n",
    "- space complexity: O(1) the output is going to be constant without needing to use advanced computing power."
   ]
  }
 ],
 "metadata": {
  "kernelspec": {
   "display_name": "Python 3.10.6 64-bit",
   "language": "python",
   "name": "python3"
  },
  "language_info": {
   "codemirror_mode": {
    "name": "ipython",
    "version": 3
   },
   "file_extension": ".py",
   "mimetype": "text/x-python",
   "name": "python",
   "nbconvert_exporter": "python",
   "pygments_lexer": "ipython3",
   "version": "3.10.6"
  },
  "orig_nbformat": 4,
  "vscode": {
   "interpreter": {
    "hash": "7d6993cb2f9ce9a59d5d7380609d9cb5192a9dedd2735a011418ad9e827eb538"
   }
  }
 },
 "nbformat": 4,
 "nbformat_minor": 2
}
